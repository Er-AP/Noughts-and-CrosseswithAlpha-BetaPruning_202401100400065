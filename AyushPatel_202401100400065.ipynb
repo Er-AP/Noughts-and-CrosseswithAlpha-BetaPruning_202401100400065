{
  "nbformat": 4,
  "nbformat_minor": 0,
  "metadata": {
    "colab": {
      "provenance": []
    },
    "kernelspec": {
      "name": "python3",
      "display_name": "Python 3"
    },
    "language_info": {
      "name": "python"
    }
  },
  "cells": [
    {
      "cell_type": "code",
      "source": [
        "import math"
      ],
      "metadata": {
        "id": "9LNg-vdKP4Hi"
      },
      "execution_count": 10,
      "outputs": []
    },
    {
      "cell_type": "code",
      "source": [
        "# Function to check if the game has ended (win, loss, or draw)\n",
        "def is_terminal(board):\n",
        "    # Check rows, columns, and diagonals for a win\n",
        "    for i in range(3):\n",
        "        if board[i][0] == board[i][1] == board[i][2] and board[i][0] != ' ':\n",
        "            return True\n",
        "        if board[0][i] == board[1][i] == board[2][i] and board[0][i] != ' ':\n",
        "            return True\n",
        "\n",
        "    if board[0][0] == board[1][1] == board[2][2] and board[0][0] != ' ':\n",
        "        return True\n",
        "    if board[0][2] == board[1][1] == board[2][0] and board[0][2] != ' ':\n",
        "        return True\n",
        "\n",
        "    # Check if the board is full (draw)\n",
        "    if all(board[i][j] != ' ' for i in range(3) for j in range(3)):\n",
        "        return True\n",
        "\n",
        "    return False"
      ],
      "metadata": {
        "id": "LJi36JQAQ-qx"
      },
      "execution_count": 11,
      "outputs": []
    },
    {
      "cell_type": "code",
      "source": [
        "# Function to evaluate the board: 1 for 'X' win, -1 for 'O' win, 0 for draw\n",
        "def evaluate(board):\n",
        "    # Check rows, columns, and diagonals for a winner\n",
        "    for i in range(3):\n",
        "        if board[i][0] == board[i][1] == board[i][2] and board[i][0] == 'X':\n",
        "            return 1  # X wins\n",
        "        if board[i][0] == board[i][1] == board[i][2] and board[i][0] == 'O':\n",
        "            return -1  # O wins\n",
        "        if board[0][i] == board[1][i] == board[2][i] and board[0][i] == 'X':\n",
        "            return 1  # X wins\n",
        "        if board[0][i] == board[1][i] == board[2][i] and board[0][i] == 'O':\n",
        "            return -1  # O wins\n",
        "\n",
        "    if board[0][0] == board[1][1] == board[2][2] and board[0][0] == 'X':\n",
        "        return 1  # X wins\n",
        "    if board[0][0] == board[1][1] == board[2][2] and board[0][0] == 'O':\n",
        "        return -1  # O wins\n",
        "    if board[0][2] == board[1][1] == board[2][0] and board[0][2] == 'X':\n",
        "        return 1  # X wins\n",
        "    if board[0][2] == board[1][1] == board[2][0] and board[0][2] == 'O':\n",
        "        return -1  # O wins\n",
        "\n",
        "    return 0  # Draw"
      ],
      "metadata": {
        "id": "QxiNAz1uRFJE"
      },
      "execution_count": 12,
      "outputs": []
    },
    {
      "cell_type": "code",
      "source": [
        "# Function to get all possible moves (empty spaces) on the board\n",
        "def get_children(board, player):\n",
        "    children = []\n",
        "    for i in range(3):\n",
        "        for j in range(3):\n",
        "            if board[i][j] == ' ':  # Find empty spaces\n",
        "                new_board = [row[:] for row in board]  # Copy the current board state\n",
        "                new_board[i][j] = player  # Place the current player's mark ('X' or 'O')\n",
        "                children.append(new_board)  # Add the new board to the list of children\n",
        "    return children"
      ],
      "metadata": {
        "id": "LJkVG9m5RKAz"
      },
      "execution_count": 13,
      "outputs": []
    },
    {
      "cell_type": "code",
      "source": [
        "# Alpha-Beta Pruning implementation\n",
        "def alpha_beta_pruning(board, depth, alpha, beta, maximizing_player):\n",
        "    # Check if the game is over or we have reached the maximum depth\n",
        "    if depth == 0 or is_terminal(board):\n",
        "        return evaluate(board)  # Evaluate the board (win, loss, or draw)\n",
        "\n",
        "    if maximizing_player:  # Maximizing player's turn (Player X)\n",
        "        max_eval = -math.inf  # Start with the lowest possible value\n",
        "        for child in get_children(board, 'X'):  # Get all possible moves for X\n",
        "            eval = alpha_beta_pruning(child, depth - 1, alpha, beta, False)  # Minimize for the opponent (O)\n",
        "            max_eval = max(max_eval, eval)  # Choose the maximum evaluation\n",
        "            alpha = max(alpha, eval)  # Update alpha\n",
        "            if beta <= alpha:  # Beta pruning: if beta is smaller than or equal to alpha, stop exploring this branch\n",
        "                break\n",
        "        return max_eval\n",
        "    else:  # Minimizing player's turn (Player O)\n",
        "        min_eval = math.inf  # Start with the highest possible value\n",
        "        for child in get_children(board, 'O'):  # Get all possible moves for O\n",
        "            eval = alpha_beta_pruning(child, depth - 1, alpha, beta, True)  # Maximize for the opponent (X)\n",
        "            min_eval = min(min_eval, eval)  # Choose the minimum evaluation\n",
        "            beta = min(beta, eval)  # Update beta\n",
        "            if beta <= alpha:  # Alpha pruning: if alpha is larger than or equal to beta, stop exploring this branch\n",
        "                break\n",
        "        return min_eval"
      ],
      "metadata": {
        "id": "IlyKTTEcROos"
      },
      "execution_count": 14,
      "outputs": []
    },
    {
      "cell_type": "code",
      "source": [
        "# Function to find the best move for the current player (X or O)\n",
        "def find_best_move(board, depth, maximizing_player):\n",
        "    best_move = None\n",
        "    best_value = -math.inf if maximizing_player else math.inf\n",
        "\n",
        "    # Try every possible move and apply Alpha-Beta pruning to find the best move\n",
        "    for child in get_children(board, 'X' if maximizing_player else 'O'):\n",
        "        move_value = alpha_beta_pruning(child, depth - 1, -math.inf, math.inf, not maximizing_player)\n",
        "        if (maximizing_player and move_value > best_value) or (not maximizing_player and move_value < best_value):\n",
        "            best_value = move_value  # Update the best value\n",
        "            best_move = child  # Update the best move\n",
        "\n",
        "    return best_move"
      ],
      "metadata": {
        "id": "LzPzR_aeRTqz"
      },
      "execution_count": 15,
      "outputs": []
    },
    {
      "cell_type": "code",
      "source": [
        "# Function to display the board\n",
        "def print_board(board):\n",
        "    for row in board:\n",
        "        print(\" | \".join(row))  # Print each row\n",
        "        print(\"-\" * 5)  # Print a separator line"
      ],
      "metadata": {
        "id": "m-0m209LRX7Z"
      },
      "execution_count": 16,
      "outputs": []
    },
    {
      "cell_type": "code",
      "source": [
        "# Main game loop\n",
        "def play_game():\n",
        "    # Initial empty 3x3 Tic-Tac-Toe board\n",
        "    board = [[' ' for _ in range(3)] for _ in range(3)]\n",
        "\n",
        "    # Display the initial empty board\n",
        "    print(\"Initial Board:\")\n",
        "    print_board(board)\n",
        "\n",
        "    # Number of moves made\n",
        "    moves = 0\n",
        "    depth = 9  # Maximum number of moves is 9 (full board)\n",
        "\n",
        "    # Game loop: X is the maximizing player and O is the minimizing player\n",
        "    while not is_terminal(board) and moves < depth:\n",
        "        print(f\"\\nMove {moves + 1}:\")\n",
        "        if moves % 2 == 0:\n",
        "            print(\"Player X's turn (Maximizing)\")\n",
        "            best_move = find_best_move(board, depth, True)  # X is the maximizing player\n",
        "        else:\n",
        "            print(\"Player O's turn (Minimizing)\")\n",
        "            best_move = find_best_move(board, depth, False)  # O is the minimizing player\n",
        "\n",
        "        # Display the board after the move\n",
        "        print_board(best_move)\n",
        "        board = best_move  # Update the board with the new move\n",
        "        moves += 1\n",
        "\n",
        "    print(\"\\nGame Over!\")\n",
        "    print_board(board)\n",
        "\n",
        "# Call the play_game function to simulate the game\n",
        "play_game()"
      ],
      "metadata": {
        "colab": {
          "base_uri": "https://localhost:8080/"
        },
        "id": "MPlMJeGwRa-u",
        "outputId": "1ea25b76-0c74-4e40-a663-3b5b59e0c998"
      },
      "execution_count": 17,
      "outputs": [
        {
          "output_type": "stream",
          "name": "stdout",
          "text": [
            "Initial Board:\n",
            "  |   |  \n",
            "-----\n",
            "  |   |  \n",
            "-----\n",
            "  |   |  \n",
            "-----\n",
            "\n",
            "Move 1:\n",
            "Player X's turn (Maximizing)\n",
            "X |   |  \n",
            "-----\n",
            "  |   |  \n",
            "-----\n",
            "  |   |  \n",
            "-----\n",
            "\n",
            "Move 2:\n",
            "Player O's turn (Minimizing)\n",
            "X |   |  \n",
            "-----\n",
            "  | O |  \n",
            "-----\n",
            "  |   |  \n",
            "-----\n",
            "\n",
            "Move 3:\n",
            "Player X's turn (Maximizing)\n",
            "X | X |  \n",
            "-----\n",
            "  | O |  \n",
            "-----\n",
            "  |   |  \n",
            "-----\n",
            "\n",
            "Move 4:\n",
            "Player O's turn (Minimizing)\n",
            "X | X | O\n",
            "-----\n",
            "  | O |  \n",
            "-----\n",
            "  |   |  \n",
            "-----\n",
            "\n",
            "Move 5:\n",
            "Player X's turn (Maximizing)\n",
            "X | X | O\n",
            "-----\n",
            "  | O |  \n",
            "-----\n",
            "X |   |  \n",
            "-----\n",
            "\n",
            "Move 6:\n",
            "Player O's turn (Minimizing)\n",
            "X | X | O\n",
            "-----\n",
            "O | O |  \n",
            "-----\n",
            "X |   |  \n",
            "-----\n",
            "\n",
            "Move 7:\n",
            "Player X's turn (Maximizing)\n",
            "X | X | O\n",
            "-----\n",
            "O | O | X\n",
            "-----\n",
            "X |   |  \n",
            "-----\n",
            "\n",
            "Move 8:\n",
            "Player O's turn (Minimizing)\n",
            "X | X | O\n",
            "-----\n",
            "O | O | X\n",
            "-----\n",
            "X | O |  \n",
            "-----\n",
            "\n",
            "Move 9:\n",
            "Player X's turn (Maximizing)\n",
            "X | X | O\n",
            "-----\n",
            "O | O | X\n",
            "-----\n",
            "X | O | X\n",
            "-----\n",
            "\n",
            "Game Over!\n",
            "X | X | O\n",
            "-----\n",
            "O | O | X\n",
            "-----\n",
            "X | O | X\n",
            "-----\n"
          ]
        }
      ]
    }
  ]
}